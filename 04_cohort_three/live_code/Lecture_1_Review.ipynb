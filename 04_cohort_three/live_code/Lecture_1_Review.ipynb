{
 "cells": [
  {
   "cell_type": "code",
   "execution_count": 1,
   "id": "0a369d6d",
   "metadata": {
    "id": "0a369d6d"
   },
   "outputs": [],
   "source": [
    "# Agenda items\n",
    "# - Start recording\n",
    "# - Review of yesterday's material"
   ]
  },
  {
   "cell_type": "code",
   "execution_count": 1,
   "id": "271e942f-dd86-462f-868a-645c2ba541a3",
   "metadata": {
    "id": "271e942f-dd86-462f-868a-645c2ba541a3"
   },
   "outputs": [],
   "source": [
    "import timeit\n",
    "import random"
   ]
  },
  {
   "cell_type": "code",
   "execution_count": 2,
   "id": "070f8a79-9dbd-4767-acdc-76d9460eb3a9",
   "metadata": {
    "id": "070f8a79-9dbd-4767-acdc-76d9460eb3a9"
   },
   "outputs": [],
   "source": [
    "small_list = list(range(10)) # 10\n",
    "medium_list = list(range(10**2)) # 100\n",
    "big_list = list(range(10**4)) #  10000\n",
    "\n",
    "random.shuffle(small_list)\n",
    "random.shuffle(medium_list)\n",
    "random.shuffle(big_list)"
   ]
  },
  {
   "cell_type": "code",
   "execution_count": 3,
   "id": "076ecea7-16db-4e09-b29b-65782a3ac88a",
   "metadata": {
    "id": "076ecea7-16db-4e09-b29b-65782a3ac88a",
    "outputId": "a30fa6de-4264-4347-ed03-a497d32a39fb"
   },
   "outputs": [
    {
     "name": "stdout",
     "output_type": "stream",
     "text": [
      "Time to run on small list: 0.001146\n",
      "Time to run on medium list: 0.000383 which is 0.33 times the small list\n",
      "Time to run on big list: 0.000253 which is 0.6613 times the medium list, and 0.6613 times the small list\n"
     ]
    }
   ],
   "source": [
    "def get_first_element(lst):\n",
    "    return lst[0]\n",
    "\n",
    "# O(1)\n",
    "\n",
    "a = timeit.timeit(\"get_first_element(small_list)\", number=1000, globals=globals())\n",
    "b = timeit.timeit(\"get_first_element(medium_list)\", number=1000, globals=globals())\n",
    "c = timeit.timeit(\"get_first_element(big_list)\", number=1000, globals=globals())\n",
    "print(\"Time to run on small list: {0:.6f}\".format(a))\n",
    "print(\"Time to run on medium list: {0:.6f} which is {1:.2f} times the small list\".format(b, b/a))\n",
    "print(\"Time to run on big list: {0:.6f} which is {1:.4f} times the medium list, and {1:.4f} times the small list\".format(c, c/b, c/a))"
   ]
  },
  {
   "cell_type": "code",
   "execution_count": 4,
   "id": "9e9be818-5183-41fb-ae19-e3c51fe325a9",
   "metadata": {
    "id": "9e9be818-5183-41fb-ae19-e3c51fe325a9",
    "outputId": "3f1ca000-76e9-48bc-ad3f-ca8fe1c95489"
   },
   "outputs": [
    {
     "name": "stdout",
     "output_type": "stream",
     "text": [
      "Time to run on small list: 0.002429\n",
      "Time to run on medium list: 0.003509 which is 1.44 times the small list\n",
      "Time to run on big list: 0.021555 which is 6.1431 times the medium list, and 6.1431 times the small list\n"
     ]
    }
   ],
   "source": [
    "def add_first_10_numbers(lst):\n",
    "    total = lst[0]\n",
    "    total = total + lst[1]\n",
    "    total = total + lst[2]\n",
    "    total = total + lst[3]\n",
    "    total = total + lst[4]\n",
    "    total = total + lst[5]\n",
    "    total = total + lst[6]\n",
    "    total = total + lst[7]\n",
    "    total = total + lst[8]\n",
    "    total = total + lst[9]\n",
    "    return total\n",
    "\n",
    "#O(1)\n",
    "\n",
    "a = timeit.timeit(\"add_first_10_numbers(small_list)\", number=1000, globals=globals())\n",
    "b = timeit.timeit(\"add_first_10_numbers(medium_list)\", number=1000, globals=globals())\n",
    "c = timeit.timeit(\"add_first_10_numbers(big_list)\", number=1000, globals=globals())\n",
    "print(\"Time to run on small list: {0:.6f}\".format(a))\n",
    "print(\"Time to run on medium list: {0:.6f} which is {1:.2f} times the small list\".format(b, b/a))\n",
    "print(\"Time to run on big list: {0:.6f} which is {1:.4f} times the medium list, and {1:.4f} times the small list\".format(c, c/b, c/a))"
   ]
  },
  {
   "cell_type": "code",
   "execution_count": 5,
   "id": "75e09cc5-3da4-4021-85bb-8141643547cb",
   "metadata": {
    "id": "75e09cc5-3da4-4021-85bb-8141643547cb",
    "outputId": "284cd437-fc41-4806-cf24-d030c00c6702"
   },
   "outputs": [
    {
     "name": "stdout",
     "output_type": "stream",
     "text": [
      "Time to run on small list: 0.001748\n",
      "Time to run on medium list: 0.017396 which is 9.95 times the small list\n",
      "Time to run on big list: 1.1554430999999568 which is 66.41966302775809 times the medium list, and 661.0464557261203 times the small list\n"
     ]
    }
   ],
   "source": [
    "def get_sum(lst):\n",
    "    total = 0\n",
    "    for item in lst:\n",
    "        total = total + item\n",
    "    return total\n",
    "\n",
    "#O(n)\n",
    "\n",
    "a = timeit.timeit(\"get_sum(small_list)\", number=1000, globals=globals())\n",
    "b = timeit.timeit(\"get_sum(medium_list)\", number=1000, globals=globals())\n",
    "c = timeit.timeit(\"get_sum(big_list)\", number=1000, globals=globals())\n",
    "print(\"Time to run on small list: {0:.6f}\".format(a))\n",
    "print(\"Time to run on medium list: {0:.6f} which is {1:.2f} times the small list\".format(b, b/a))\n",
    "print(\"Time to run on big list: {} which is {} times the medium list, and {} times the small list\".format(c, c/b, c/a))"
   ]
  },
  {
   "cell_type": "code",
   "execution_count": 7,
   "id": "78648b8b-a76a-41de-893b-df5745e54542",
   "metadata": {
    "id": "78648b8b-a76a-41de-893b-df5745e54542",
    "outputId": "5656f6f2-3e08-4d87-c8af-d36befde30e9"
   },
   "outputs": [
    {
     "name": "stdout",
     "output_type": "stream",
     "text": [
      "Time to run on small list: 0.003571\n",
      "Time to run on medium list: 0.025449 which is 7.13 times the small list\n",
      "Time to run on big list: 7.925492300000002 which is 311.42157771891027 times the medium list, and 2219.093462130996 times the small list\n"
     ]
    }
   ],
   "source": [
    "def search(arr, target):\n",
    "    for i in range(len(arr)):\n",
    "        if arr[i] == target:\n",
    "            return i\n",
    "    return -1\n",
    "\n",
    "# O(n)\n",
    "\n",
    "a = timeit.timeit(\"search(small_list, random.random() * len(small_list))\", number=1000, globals=globals())\n",
    "b = timeit.timeit(\"search(medium_list, random.random() * len(medium_list))\", number=1000, globals=globals())\n",
    "c = timeit.timeit(\"search(big_list, random.random() * len(big_list))\", number=1000, globals=globals())\n",
    "print(\"Time to run on small list: {0:.6f}\".format(a))\n",
    "print(\"Time to run on medium list: {0:.6f} which is {1:.2f} times the small list\".format(b, b/a))\n",
    "print(\"Time to run on big list: {} which is {} times the medium list, and {} times the small list\".format(c, c/b, c/a))"
   ]
  },
  {
   "cell_type": "code",
   "execution_count": 8,
   "id": "efb2b577-5beb-46b9-bf39-4827cd0ad4fc",
   "metadata": {
    "id": "efb2b577-5beb-46b9-bf39-4827cd0ad4fc",
    "outputId": "b47ab4c0-909f-44fb-8198-315f7642d116"
   },
   "outputs": [
    {
     "name": "stdout",
     "output_type": "stream",
     "text": [
      "Time to run on small list: 0.000754\n",
      "Time to run on medium list: 0.027085 which is 35.93 times the small list\n",
      "Time to run on big list: 281.2092031 which is 10382.470116300696 times the medium list, and 373055.45648799784 times the small list\n"
     ]
    }
   ],
   "source": [
    "def bubble_sort(arr):\n",
    "    n = len(arr)\n",
    "    for i in range(n):\n",
    "        for j in range(0, n-i-1):\n",
    "            if arr[j] > arr[j+1]:\n",
    "                arr[j], arr[j+1] = arr[j+1], arr[j]\n",
    "    return arr\n",
    "\n",
    "# O(n^2)\n",
    "\n",
    "a = timeit.timeit(\"bubble_sort(small_list)\", number=10, globals=globals())\n",
    "b = timeit.timeit(\"bubble_sort(medium_list)\", number=10, globals=globals())\n",
    "c = timeit.timeit(\"bubble_sort(big_list)\", number=10, globals=globals())\n",
    "print(\"Time to run on small list: {0:.6f}\".format(a))\n",
    "print(\"Time to run on medium list: {0:.6f} which is {1:.2f} times the small list\".format(b, b/a))\n",
    "print(\"Time to run on big list: {} which is {} times the medium list, and {} times the small list\".format(c, c/b, c/a))"
   ]
  },
  {
   "cell_type": "code",
   "execution_count": 6,
   "id": "998b5ee5-30bc-44e0-b10a-778ee80b23ef",
   "metadata": {
    "id": "998b5ee5-30bc-44e0-b10a-778ee80b23ef",
    "outputId": "df3646cc-9c39-45db-a53c-c215a27db9a8"
   },
   "outputs": [
    {
     "name": "stdout",
     "output_type": "stream",
     "text": [
      "Time to run on small list: 0.002133\n",
      "Time to run on medium list: 0.004588 which is 2.15 times the small list\n",
      "Time to run on big list: 0.002242799999748968 which is 0.48879783796070736 times the medium list, and 1.0512796474817805 times the small list\n"
     ]
    }
   ],
   "source": [
    "def binary_search(arr, target):\n",
    "    low, high = 0, len(arr) - 1\n",
    "    while low <= high:\n",
    "        mid = (low + high) // 2\n",
    "        if arr[mid] == target:\n",
    "            return mid\n",
    "        elif arr[mid] < target:\n",
    "            low = mid + 1\n",
    "        else:\n",
    "            high = mid - 1\n",
    "    return -1\n",
    "\n",
    "# O(log n)\n",
    "\n",
    "small_list = list(range(10))\n",
    "medium_list = list(range(100))\n",
    "big_list = list(range(10000))\n",
    "\n",
    "\n",
    "a = timeit.timeit(\"binary_search(small_list, random.random() * len(small_list))\", number=100, globals=globals())\n",
    "b = timeit.timeit(\"binary_search(medium_list, random.random() * len(medium_list))\", number=100, globals=globals())\n",
    "c = timeit.timeit(\"binary_search(big_list, random.random() * len(big_list))\", number=100, globals=globals())\n",
    "print(\"Time to run on small list: {0:.6f}\".format(a))\n",
    "print(\"Time to run on medium list: {0:.6f} which is {1:.2f} times the small list\".format(b, b/a))\n",
    "print(\"Time to run on big list: {} which is {} times the medium list, and {} times the small list\".format(c, c/b, c/a))"
   ]
  }
 ],
 "metadata": {
  "colab": {
   "provenance": []
  },
  "kernelspec": {
   "display_name": "Python 3 (ipykernel)",
   "language": "python",
   "name": "python3"
  },
  "language_info": {
   "codemirror_mode": {
    "name": "ipython",
    "version": 3
   },
   "file_extension": ".py",
   "mimetype": "text/x-python",
   "name": "python",
   "nbconvert_exporter": "python",
   "pygments_lexer": "ipython3",
   "version": "3.9.15"
  }
 },
 "nbformat": 4,
 "nbformat_minor": 5
}
