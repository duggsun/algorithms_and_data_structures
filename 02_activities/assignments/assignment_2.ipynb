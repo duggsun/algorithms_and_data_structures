{
 "cells": [
  {
   "cell_type": "markdown",
   "metadata": {},
   "source": [
    "# Practice Interview\n",
    "\n",
    "## Objective\n",
    "\n",
    "_*The partner assignment aims to provide participants with the opportunity to practice coding in an interview context. You will analyze your partner's Assignment 1. Moreover, code reviews are common practice in a software development team. This assignment should give you a taste of the code review process.*_\n",
    "\n",
    "## Group Size\n",
    "\n",
    "Each group should have 2 people. You will be assigned a partner\n",
    "\n",
    "## Part 1:\n",
    "\n",
    "You and your partner must share each other's Assignment 1 submission."
   ]
  },
  {
   "cell_type": "markdown",
   "metadata": {},
   "source": [
    "\n",
    "## Part 2:\n",
    "\n",
    "Create a Jupyter Notebook, create 6 of the following headings, and complete the following for your partner's assignment 1:\n",
    "\n",
    "-   Paraphrase the problem in your own words.\n"
   ]
  },
  {
   "cell_type": "markdown",
   "metadata": {},
   "source": [
    "Problem is to traverse through the nodes of a binary tree, check if the tree contains any duplicate values \n",
    "and return that value. If there are multiple duplicate values, return the one closest to the root of the tree.\n",
    "If there are no duplicates, retunr -1."
   ]
  },
  {
   "cell_type": "markdown",
   "metadata": {},
   "source": [
    "\n",
    "-   Create 1 new example that demonstrates you understand the problem. Trace/walkthrough 1 example that your partner made and explain it.\n"
   ]
  },
  {
   "cell_type": "markdown",
   "metadata": {},
   "source": [
    "New example:   \n",
    "root5 = TreeNode(1)  \n",
    "root5.left = TreeNode(12, TreeNode(4), TreeNode(6))   \n",
    "root5.right = TreeNode(4, TreeNode(12), TreeNode(3))  \n",
    "\n",
    "Output: 4\n",
    "\n",
    "Example made by partner:    \n",
    "root3 = TreeNode(1)   \n",
    "root3.left = TreeNode(6)   \n",
    "root3.right = TreeNode(2)    \n",
    "root3.left.left = TreeNode(3)    \n",
    "root3.left.right = TreeNode(13)    \n",
    "root3.right.left = TreeNode(13)    \n",
    "root3.right.right = TreeNode(12)    \n",
    "\n",
    "Output: 13\n",
    "\n",
    "Walkthrough:    \n",
    "Start at the root node and add the value to the list {1}    \n",
    "Move to the next level and start from the left most child    \n",
    "Go to the firt child, check if it's in the list, it's not so add the value to the queue {1,6}    \n",
    "Go to the second child, check if it's in the list, it's not so add the value to the queue {1,6,2}    \n",
    "Move to the next level and start from the left most child    \n",
    "Go to the first child, check if it's in the list, it's not so add the value to the queue {1,6,2,3}    \n",
    "Go to the second child, check if it's in the list, it's not so add the value to the queue {1,6,2,3,13}    \n",
    "Go to the third child, check if it's in the list, it is, so return the valuve (13) and exit    "
   ]
  },
  {
   "cell_type": "markdown",
   "metadata": {},
   "source": [
    "\n",
    "-   Copy the solution your partner wrote. \n"
   ]
  },
  {
   "cell_type": "code",
   "execution_count": null,
   "metadata": {},
   "outputs": [],
   "source": [
    "def is_duplicate(root: TreeNode) -> int:\n",
    "    visited_nodes = set()\n",
    "    BFS_nodes = [root]\n",
    "    while BFS_nodes:\n",
    "        node = BFS_nodes.pop(0) \n",
    "        if node.val in visited_nodes:\n",
    "            return node.val\n",
    "        visited_nodes.add(node.val)\n",
    "        if node.left:\n",
    "            BFS_nodes.append(node.left)\n",
    "        if node.right:\n",
    "            BFS_nodes.append(node.right)\n",
    "    return -1\n",
    "\n",
    "print(is_duplicate(root3)) \n",
    "print(is_duplicate(root4)) "
   ]
  },
  {
   "cell_type": "markdown",
   "metadata": {},
   "source": [
    "\n",
    "-   Explain why their solution works in your own words.\n"
   ]
  },
  {
   "cell_type": "markdown",
   "metadata": {},
   "source": [
    "The solution employs Breadth-First Search (BFS) to efficiently traverse the binary tree level by level, starting from the root. A set is used to keep track of node values that have been seen. This allows for quick detection of duplicates as nodes are processed. BFS ensures that if a duplicate exists, it will be found at the closest level to the root. This is because BFS processes nodes level by level, guaranteeing that the first duplicate encountered is the nearest to the root."
   ]
  },
  {
   "cell_type": "markdown",
   "metadata": {},
   "source": [
    "\n",
    "-   Explain the problem’s time and space complexity in your own words.\n"
   ]
  },
  {
   "cell_type": "markdown",
   "metadata": {},
   "source": [
    "Time Complexity:   \n",
    "The time complexity of this solution is O(N), where N is the number of nodes in the binary tree. In the worst case, we might need to visit every node in the tree once. Each node is processed exactly once: it's added to the queue, then removed and checked. So, we perform a constant amount of work for each of the N nodes, resulting in O(N) time complexity.\n",
    "\n",
    "Space Complexity:\n",
    "The space complexity is also O(N). In the worst case, we might need to store all nodes of the tree in our queue. This could happen if the tree is one where every node has many children. The maximum space used by the queue and the set together won't exceed O(N). Therefore, the space required grows linearly with the number of nodes, giving us O(N) space complexity."
   ]
  },
  {
   "cell_type": "markdown",
   "metadata": {},
   "source": [
    "\n",
    "-   Critique your partner's solution, including explanation, and if there is anything that should be adjusted.\n"
   ]
  },
  {
   "cell_type": "markdown",
   "metadata": {},
   "source": [
    "The solution correctly implements a BFS approach to find the nearest duplicate. The explanation accurately describes the time and space complexity as O(N). The use of a set for quick lookup of visited nodes is efficient.\n",
    " \n",
    "The code uses a list (BFS_nodes = [root]). Using a deque would be more efficient for queue operations. The function should check the case where the root is 'none' at the beginning to make it more efficient. "
   ]
  },
  {
   "cell_type": "markdown",
   "metadata": {},
   "source": [
    "\n",
    "## Part 3:\n",
    "\n",
    "Please write a 200 word reflection documenting your process from assignment 1, and your presentation and review experience with your partner at the bottom of the Jupyter Notebook under a new heading \"Reflection.\" Again, export this Notebook as pdf.\n"
   ]
  },
  {
   "cell_type": "markdown",
   "metadata": {},
   "source": [
    "### Reflection"
   ]
  },
  {
   "cell_type": "markdown",
   "metadata": {},
   "source": [
    "Assignment 1: Finding Missing Numbers in a List\n",
    "\n",
    "Initially, I approached the problem by creating a range from 0 to the maximum value in the given list, then using a for loop to compare each number in the range against the list. Missing numbers were added to a new list. Upon reflection, I realized that using a set instead of a list for checking missing values would have significantly improved performance, especially for larger datasets, due to the O(1) average time complexity of set operations.\n",
    "\n",
    "Key Learnings:   \n",
    "•\tThe profound impact of data structure choice on algorithm performance and time complexity.   \n",
    "•\tThe importance of critically evaluating and optimizing initial solutions.   \n",
    "•\tThe value of understanding different data structures and their operational efficiencies.   \n",
    "\n",
    "Assignment 2: Code Review\n",
    "\n",
    "In this assignment, I partnered with a peer to review each other's solutions from Assignment 1. I analyzed my partner's solution for detecting duplicates in a binary tree using Breadth-First Search (BFS).\n",
    "\n",
    "The process involved:   \n",
    "•\tParaphrasing the problem and creating new examples to ensure clear understanding.    \n",
    "•\tExplaining the time and space complexities of the solution.   \n",
    "•\tProviding constructive feedback on strengths and potential improvements.   \n",
    "\n",
    "Key Learnings:  \n",
    "•\tGained practical experience in the code review process, mimicking real-world software development practices.  \n",
    "•\tDeepened understanding of tree traversal algorithms, particularly BFS.  \n",
    "•\tImproved ability to analyze and explain algorithm complexities.  \n",
    "•\tEnhanced skills in providing constructive feedback and identifying areas for code optimization.  \n",
    "\n",
    "These assignments highlighted the importance of:  \n",
    "•\tSelecting optimal data structures for efficient problem-solving.   \n",
    "•\tContinuously seeking ways to improve and optimize code.  \n",
    "•\tThe value of collaborative coding and peer reviews in software development.  \n",
    "•\tThe practical application of theoretical concepts in algorithm design and analysis.  \n"
   ]
  },
  {
   "cell_type": "markdown",
   "metadata": {},
   "source": [
    "\n",
    "## Evaluation Criteria\n",
    "\n",
    "We are looking for the similar points as Assignment 1\n",
    "\n",
    "-   Problem is accurately stated\n",
    "\n",
    "-   New example is correct and easily understandable\n",
    "\n",
    "-   Correctness, time, and space complexity of the coding solution\n",
    "\n",
    "-   Clarity in explaining why the solution works, its time and space complexity\n",
    "\n",
    "-   Quality of critique of your partner's assignment, if necessary\n"
   ]
  },
  {
   "cell_type": "markdown",
   "metadata": {},
   "source": [
    "## Submission Information\n",
    "\n",
    "🚨 **Please review our [Assignment Submission Guide](https://github.com/UofT-DSI/onboarding/blob/main/onboarding_documents/submissions.md)** 🚨 for detailed instructions on how to format, branch, and submit your work. Following these guidelines is crucial for your submissions to be evaluated correctly.\n",
    "\n",
    "### Submission Parameters:\n",
    "* Submission Due Date: `HH:MM AM/PM - DD/MM/YYYY`\n",
    "* The branch name for your repo should be: `assignment-2`\n",
    "* What to submit for this assignment:\n",
    "    * This Jupyter Notebook (assignment_2.ipynb) should be populated and should be the only change in your pull request.\n",
    "* What the pull request link should look like for this assignment: `https://github.com/<your_github_username>/algorithms_and_data_structures/pull/<pr_id>`\n",
    "    * Open a private window in your browser. Copy and paste the link to your pull request into the address bar. Make sure you can see your pull request properly. This helps the technical facilitator and learning support staff review your submission easily.\n",
    "\n",
    "Checklist:\n",
    "- [ ] Created a branch with the correct naming convention.\n",
    "- [ ] Ensured that the repository is public.\n",
    "- [ ] Reviewed the PR description guidelines and adhered to them.\n",
    "- [ ] Verify that the link is accessible in a private browser window.\n",
    "\n",
    "If you encounter any difficulties or have questions, please don't hesitate to reach out to our team via our Slack at `#cohort-3-help`. Our Technical Facilitators and Learning Support staff are here to help you navigate any challenges.\n"
   ]
  }
 ],
 "metadata": {
  "language_info": {
   "name": "python"
  }
 },
 "nbformat": 4,
 "nbformat_minor": 2
}
